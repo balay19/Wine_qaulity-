{
 "cells": [
  {
   "cell_type": "code",
   "execution_count": 1,
   "id": "41940235",
   "metadata": {
    "execution": {
     "iopub.execute_input": "2024-04-06T12:11:11.972480Z",
     "iopub.status.busy": "2024-04-06T12:11:11.971133Z",
     "iopub.status.idle": "2024-04-06T12:11:14.716091Z",
     "shell.execute_reply": "2024-04-06T12:11:14.714664Z"
    },
    "papermill": {
     "duration": 2.759503,
     "end_time": "2024-04-06T12:11:14.719073",
     "exception": false,
     "start_time": "2024-04-06T12:11:11.959570",
     "status": "completed"
    },
    "tags": []
   },
   "outputs": [],
   "source": [
    "import pandas as pd\n",
    "import numpy as np\n",
    "import seaborn as sns\n",
    "import matplotlib.pyplot as plt"
   ]
  },
  {
   "cell_type": "code",
   "execution_count": 2,
   "id": "857bb9d6",
   "metadata": {
    "execution": {
     "iopub.execute_input": "2024-04-06T12:11:14.738070Z",
     "iopub.status.busy": "2024-04-06T12:11:14.737540Z",
     "iopub.status.idle": "2024-04-06T12:11:14.780591Z",
     "shell.execute_reply": "2024-04-06T12:11:14.779390Z"
    },
    "papermill": {
     "duration": 0.055822,
     "end_time": "2024-04-06T12:11:14.783528",
     "exception": false,
     "start_time": "2024-04-06T12:11:14.727706",
     "status": "completed"
    },
    "tags": []
   },
   "outputs": [],
   "source": [
    "data=pd.read_csv('/kaggle/input/wine-quality/winequalityN.csv')"
   ]
  },
  {
   "cell_type": "code",
   "execution_count": 3,
   "id": "5ff4a793",
   "metadata": {
    "execution": {
     "iopub.execute_input": "2024-04-06T12:11:14.802056Z",
     "iopub.status.busy": "2024-04-06T12:11:14.801655Z",
     "iopub.status.idle": "2024-04-06T12:11:14.832228Z",
     "shell.execute_reply": "2024-04-06T12:11:14.831400Z"
    },
    "papermill": {
     "duration": 0.042941,
     "end_time": "2024-04-06T12:11:14.834968",
     "exception": false,
     "start_time": "2024-04-06T12:11:14.792027",
     "status": "completed"
    },
    "tags": []
   },
   "outputs": [
    {
     "data": {
      "text/html": [
       "<div>\n",
       "<style scoped>\n",
       "    .dataframe tbody tr th:only-of-type {\n",
       "        vertical-align: middle;\n",
       "    }\n",
       "\n",
       "    .dataframe tbody tr th {\n",
       "        vertical-align: top;\n",
       "    }\n",
       "\n",
       "    .dataframe thead th {\n",
       "        text-align: right;\n",
       "    }\n",
       "</style>\n",
       "<table border=\"1\" class=\"dataframe\">\n",
       "  <thead>\n",
       "    <tr style=\"text-align: right;\">\n",
       "      <th></th>\n",
       "      <th>type</th>\n",
       "      <th>fixed acidity</th>\n",
       "      <th>volatile acidity</th>\n",
       "      <th>citric acid</th>\n",
       "      <th>residual sugar</th>\n",
       "      <th>chlorides</th>\n",
       "      <th>free sulfur dioxide</th>\n",
       "      <th>total sulfur dioxide</th>\n",
       "      <th>density</th>\n",
       "      <th>pH</th>\n",
       "      <th>sulphates</th>\n",
       "      <th>alcohol</th>\n",
       "      <th>quality</th>\n",
       "    </tr>\n",
       "  </thead>\n",
       "  <tbody>\n",
       "    <tr>\n",
       "      <th>0</th>\n",
       "      <td>white</td>\n",
       "      <td>7.0</td>\n",
       "      <td>0.27</td>\n",
       "      <td>0.36</td>\n",
       "      <td>20.7</td>\n",
       "      <td>0.045</td>\n",
       "      <td>45.0</td>\n",
       "      <td>170.0</td>\n",
       "      <td>1.0010</td>\n",
       "      <td>3.00</td>\n",
       "      <td>0.45</td>\n",
       "      <td>8.8</td>\n",
       "      <td>6</td>\n",
       "    </tr>\n",
       "    <tr>\n",
       "      <th>1</th>\n",
       "      <td>white</td>\n",
       "      <td>6.3</td>\n",
       "      <td>0.30</td>\n",
       "      <td>0.34</td>\n",
       "      <td>1.6</td>\n",
       "      <td>0.049</td>\n",
       "      <td>14.0</td>\n",
       "      <td>132.0</td>\n",
       "      <td>0.9940</td>\n",
       "      <td>3.30</td>\n",
       "      <td>0.49</td>\n",
       "      <td>9.5</td>\n",
       "      <td>6</td>\n",
       "    </tr>\n",
       "    <tr>\n",
       "      <th>2</th>\n",
       "      <td>white</td>\n",
       "      <td>8.1</td>\n",
       "      <td>0.28</td>\n",
       "      <td>0.40</td>\n",
       "      <td>6.9</td>\n",
       "      <td>0.050</td>\n",
       "      <td>30.0</td>\n",
       "      <td>97.0</td>\n",
       "      <td>0.9951</td>\n",
       "      <td>3.26</td>\n",
       "      <td>0.44</td>\n",
       "      <td>10.1</td>\n",
       "      <td>6</td>\n",
       "    </tr>\n",
       "    <tr>\n",
       "      <th>3</th>\n",
       "      <td>white</td>\n",
       "      <td>7.2</td>\n",
       "      <td>0.23</td>\n",
       "      <td>0.32</td>\n",
       "      <td>8.5</td>\n",
       "      <td>0.058</td>\n",
       "      <td>47.0</td>\n",
       "      <td>186.0</td>\n",
       "      <td>0.9956</td>\n",
       "      <td>3.19</td>\n",
       "      <td>0.40</td>\n",
       "      <td>9.9</td>\n",
       "      <td>6</td>\n",
       "    </tr>\n",
       "    <tr>\n",
       "      <th>4</th>\n",
       "      <td>white</td>\n",
       "      <td>7.2</td>\n",
       "      <td>0.23</td>\n",
       "      <td>0.32</td>\n",
       "      <td>8.5</td>\n",
       "      <td>0.058</td>\n",
       "      <td>47.0</td>\n",
       "      <td>186.0</td>\n",
       "      <td>0.9956</td>\n",
       "      <td>3.19</td>\n",
       "      <td>0.40</td>\n",
       "      <td>9.9</td>\n",
       "      <td>6</td>\n",
       "    </tr>\n",
       "  </tbody>\n",
       "</table>\n",
       "</div>"
      ],
      "text/plain": [
       "    type  fixed acidity  volatile acidity  citric acid  residual sugar  \\\n",
       "0  white            7.0              0.27         0.36            20.7   \n",
       "1  white            6.3              0.30         0.34             1.6   \n",
       "2  white            8.1              0.28         0.40             6.9   \n",
       "3  white            7.2              0.23         0.32             8.5   \n",
       "4  white            7.2              0.23         0.32             8.5   \n",
       "\n",
       "   chlorides  free sulfur dioxide  total sulfur dioxide  density    pH  \\\n",
       "0      0.045                 45.0                 170.0   1.0010  3.00   \n",
       "1      0.049                 14.0                 132.0   0.9940  3.30   \n",
       "2      0.050                 30.0                  97.0   0.9951  3.26   \n",
       "3      0.058                 47.0                 186.0   0.9956  3.19   \n",
       "4      0.058                 47.0                 186.0   0.9956  3.19   \n",
       "\n",
       "   sulphates  alcohol  quality  \n",
       "0       0.45      8.8        6  \n",
       "1       0.49      9.5        6  \n",
       "2       0.44     10.1        6  \n",
       "3       0.40      9.9        6  \n",
       "4       0.40      9.9        6  "
      ]
     },
     "execution_count": 3,
     "metadata": {},
     "output_type": "execute_result"
    }
   ],
   "source": [
    "data.head()"
   ]
  },
  {
   "cell_type": "code",
   "execution_count": 4,
   "id": "fd1410f0",
   "metadata": {
    "execution": {
     "iopub.execute_input": "2024-04-06T12:11:14.855476Z",
     "iopub.status.busy": "2024-04-06T12:11:14.854869Z",
     "iopub.status.idle": "2024-04-06T12:11:14.884349Z",
     "shell.execute_reply": "2024-04-06T12:11:14.883075Z"
    },
    "papermill": {
     "duration": 0.043093,
     "end_time": "2024-04-06T12:11:14.887126",
     "exception": false,
     "start_time": "2024-04-06T12:11:14.844033",
     "status": "completed"
    },
    "tags": []
   },
   "outputs": [
    {
     "name": "stdout",
     "output_type": "stream",
     "text": [
      "<class 'pandas.core.frame.DataFrame'>\n",
      "RangeIndex: 6497 entries, 0 to 6496\n",
      "Data columns (total 13 columns):\n",
      " #   Column                Non-Null Count  Dtype  \n",
      "---  ------                --------------  -----  \n",
      " 0   type                  6497 non-null   object \n",
      " 1   fixed acidity         6487 non-null   float64\n",
      " 2   volatile acidity      6489 non-null   float64\n",
      " 3   citric acid           6494 non-null   float64\n",
      " 4   residual sugar        6495 non-null   float64\n",
      " 5   chlorides             6495 non-null   float64\n",
      " 6   free sulfur dioxide   6497 non-null   float64\n",
      " 7   total sulfur dioxide  6497 non-null   float64\n",
      " 8   density               6497 non-null   float64\n",
      " 9   pH                    6488 non-null   float64\n",
      " 10  sulphates             6493 non-null   float64\n",
      " 11  alcohol               6497 non-null   float64\n",
      " 12  quality               6497 non-null   int64  \n",
      "dtypes: float64(11), int64(1), object(1)\n",
      "memory usage: 660.0+ KB\n"
     ]
    }
   ],
   "source": [
    "data.info()"
   ]
  },
  {
   "cell_type": "code",
   "execution_count": 5,
   "id": "ea25c772",
   "metadata": {
    "execution": {
     "iopub.execute_input": "2024-04-06T12:11:14.907958Z",
     "iopub.status.busy": "2024-04-06T12:11:14.907217Z",
     "iopub.status.idle": "2024-04-06T12:11:17.469662Z",
     "shell.execute_reply": "2024-04-06T12:11:17.468252Z"
    },
    "papermill": {
     "duration": 2.576734,
     "end_time": "2024-04-06T12:11:17.473013",
     "exception": false,
     "start_time": "2024-04-06T12:11:14.896279",
     "status": "completed"
    },
    "tags": []
   },
   "outputs": [
    {
     "data": {
      "image/png": "[encoded data removed]",
      "text/plain": [
       "<Figure size 1000x1000 with 12 Axes>"
      ]
     },
     "metadata": {},
     "output_type": "display_data"
    }
   ],
   "source": [
    "data.hist(bins=20,figsize=(10,10))\n",
    "plt.show()"
   ]
  },
  {
   "cell_type": "code",
   "execution_count": 6,
   "id": "3ab48fe2",
   "metadata": {
    "execution": {
     "iopub.execute_input": "2024-04-06T12:11:17.496691Z",
     "iopub.status.busy": "2024-04-06T12:11:17.496271Z",
     "iopub.status.idle": "2024-04-06T12:11:17.507593Z",
     "shell.execute_reply": "2024-04-06T12:11:17.506393Z"
    },
    "papermill": {
     "duration": 0.026799,
     "end_time": "2024-04-06T12:11:17.510276",
     "exception": false,
     "start_time": "2024-04-06T12:11:17.483477",
     "status": "completed"
    },
    "tags": []
   },
   "outputs": [
    {
     "data": {
      "text/plain": [
       "type                     0\n",
       "fixed acidity           10\n",
       "volatile acidity         8\n",
       "citric acid              3\n",
       "residual sugar           2\n",
       "chlorides                2\n",
       "free sulfur dioxide      0\n",
       "total sulfur dioxide     0\n",
       "density                  0\n",
       "pH                       9\n",
       "sulphates                4\n",
       "alcohol                  0\n",
       "quality                  0\n",
       "dtype: int64"
      ]
     },
     "execution_count": 6,
     "metadata": {},
     "output_type": "execute_result"
    }
   ],
   "source": [
    "data.isnull().sum()"
   ]
  },
  {
   "cell_type": "code",
   "execution_count": 7,
   "id": "b46e954a",
   "metadata": {
    "execution": {
     "iopub.execute_input": "2024-04-06T12:11:17.533608Z",
     "iopub.status.busy": "2024-04-06T12:11:17.533178Z",
     "iopub.status.idle": "2024-04-06T12:11:17.540557Z",
     "shell.execute_reply": "2024-04-06T12:11:17.539433Z"
    },
    "papermill": {
     "duration": 0.021679,
     "end_time": "2024-04-06T12:11:17.543168",
     "exception": false,
     "start_time": "2024-04-06T12:11:17.521489",
     "status": "completed"
    },
    "tags": []
   },
   "outputs": [],
   "source": [
    "data['sulphates']=data['sulphates'].fillna(data['sulphates'].mean())"
   ]
  },
  {
   "cell_type": "code",
   "execution_count": 8,
   "id": "87e160df",
   "metadata": {
    "execution": {
     "iopub.execute_input": "2024-04-06T12:11:17.568793Z",
     "iopub.status.busy": "2024-04-06T12:11:17.568219Z",
     "iopub.status.idle": "2024-04-06T12:11:17.587814Z",
     "shell.execute_reply": "2024-04-06T12:11:17.586407Z"
    },
    "papermill": {
     "duration": 0.036327,
     "end_time": "2024-04-06T12:11:17.590405",
     "exception": false,
     "start_time": "2024-04-06T12:11:17.554078",
     "status": "completed"
    },
    "tags": []
   },
   "outputs": [
    {
     "data": {
      "text/plain": [
       "0"
      ]
     },
     "execution_count": 8,
     "metadata": {},
     "output_type": "execute_result"
    }
   ],
   "source": [
    "for col in data.columns:\n",
    "    if data[col].isnull().sum() > 0:\n",
    "        data[col]=data[col].fillna(data[col].mean())\n",
    "        \n",
    "data.isnull().sum().sum()"
   ]
  },
  {
   "cell_type": "code",
   "execution_count": 9,
   "id": "f3a5fe3d",
   "metadata": {
    "execution": {
     "iopub.execute_input": "2024-04-06T12:11:17.614096Z",
     "iopub.status.busy": "2024-04-06T12:11:17.613352Z",
     "iopub.status.idle": "2024-04-06T12:11:17.622797Z",
     "shell.execute_reply": "2024-04-06T12:11:17.621666Z"
    },
    "papermill": {
     "duration": 0.024686,
     "end_time": "2024-04-06T12:11:17.625754",
     "exception": false,
     "start_time": "2024-04-06T12:11:17.601068",
     "status": "completed"
    },
    "tags": []
   },
   "outputs": [],
   "source": [
    "for col in data.columns:\n",
    "        data[col]=data[col].round(1)\n",
    "        "
   ]
  },
  {
   "cell_type": "code",
   "execution_count": 10,
   "id": "835663cf",
   "metadata": {
    "execution": {
     "iopub.execute_input": "2024-04-06T12:11:17.648771Z",
     "iopub.status.busy": "2024-04-06T12:11:17.648343Z",
     "iopub.status.idle": "2024-04-06T12:11:17.665781Z",
     "shell.execute_reply": "2024-04-06T12:11:17.664534Z"
    },
    "papermill": {
     "duration": 0.032081,
     "end_time": "2024-04-06T12:11:17.668562",
     "exception": false,
     "start_time": "2024-04-06T12:11:17.636481",
     "status": "completed"
    },
    "tags": []
   },
   "outputs": [
    {
     "name": "stdout",
     "output_type": "stream",
     "text": [
      "<class 'pandas.core.frame.DataFrame'>\n",
      "RangeIndex: 6497 entries, 0 to 6496\n",
      "Data columns (total 13 columns):\n",
      " #   Column                Non-Null Count  Dtype  \n",
      "---  ------                --------------  -----  \n",
      " 0   type                  6497 non-null   object \n",
      " 1   fixed acidity         6497 non-null   float64\n",
      " 2   volatile acidity      6497 non-null   float64\n",
      " 3   citric acid           6497 non-null   float64\n",
      " 4   residual sugar        6497 non-null   float64\n",
      " 5   chlorides             6497 non-null   float64\n",
      " 6   free sulfur dioxide   6497 non-null   float64\n",
      " 7   total sulfur dioxide  6497 non-null   float64\n",
      " 8   density               6497 non-null   float64\n",
      " 9   pH                    6497 non-null   float64\n",
      " 10  sulphates             6497 non-null   float64\n",
      " 11  alcohol               6497 non-null   float64\n",
      " 12  quality               6497 non-null   int64  \n",
      "dtypes: float64(11), int64(1), object(1)\n",
      "memory usage: 660.0+ KB\n"
     ]
    }
   ],
   "source": [
    "data.info()"
   ]
  },
  {
   "cell_type": "code",
   "execution_count": 11,
   "id": "db325083",
   "metadata": {
    "execution": {
     "iopub.execute_input": "2024-04-06T12:11:17.695118Z",
     "iopub.status.busy": "2024-04-06T12:11:17.694575Z",
     "iopub.status.idle": "2024-04-06T12:11:17.753203Z",
     "shell.execute_reply": "2024-04-06T12:11:17.752280Z"
    },
    "papermill": {
     "duration": 0.076096,
     "end_time": "2024-04-06T12:11:17.755652",
     "exception": false,
     "start_time": "2024-04-06T12:11:17.679556",
     "status": "completed"
    },
    "tags": []
   },
   "outputs": [
    {
     "data": {
      "text/html": [
       "<div>\n",
       "<style scoped>\n",
       "    .dataframe tbody tr th:only-of-type {\n",
       "        vertical-align: middle;\n",
       "    }\n",
       "\n",
       "    .dataframe tbody tr th {\n",
       "        vertical-align: top;\n",
       "    }\n",
       "\n",
       "    .dataframe thead th {\n",
       "        text-align: right;\n",
       "    }\n",
       "</style>\n",
       "<table border=\"1\" class=\"dataframe\">\n",
       "  <thead>\n",
       "    <tr style=\"text-align: right;\">\n",
       "      <th></th>\n",
       "      <th>count</th>\n",
       "      <th>mean</th>\n",
       "      <th>std</th>\n",
       "      <th>min</th>\n",
       "      <th>25%</th>\n",
       "      <th>50%</th>\n",
       "      <th>75%</th>\n",
       "      <th>max</th>\n",
       "    </tr>\n",
       "  </thead>\n",
       "  <tbody>\n",
       "    <tr>\n",
       "      <th>fixed acidity</th>\n",
       "      <td>6497.0</td>\n",
       "      <td>7.216577</td>\n",
       "      <td>1.295743</td>\n",
       "      <td>3.8</td>\n",
       "      <td>6.4</td>\n",
       "      <td>7.0</td>\n",
       "      <td>7.7</td>\n",
       "      <td>15.9</td>\n",
       "    </tr>\n",
       "    <tr>\n",
       "      <th>volatile acidity</th>\n",
       "      <td>6497.0</td>\n",
       "      <td>0.339341</td>\n",
       "      <td>0.166639</td>\n",
       "      <td>0.1</td>\n",
       "      <td>0.2</td>\n",
       "      <td>0.3</td>\n",
       "      <td>0.4</td>\n",
       "      <td>1.6</td>\n",
       "    </tr>\n",
       "    <tr>\n",
       "      <th>citric acid</th>\n",
       "      <td>6497.0</td>\n",
       "      <td>0.318224</td>\n",
       "      <td>0.148982</td>\n",
       "      <td>0.0</td>\n",
       "      <td>0.2</td>\n",
       "      <td>0.3</td>\n",
       "      <td>0.4</td>\n",
       "      <td>1.7</td>\n",
       "    </tr>\n",
       "    <tr>\n",
       "      <th>residual sugar</th>\n",
       "      <td>6497.0</td>\n",
       "      <td>5.444390</td>\n",
       "      <td>4.757759</td>\n",
       "      <td>0.6</td>\n",
       "      <td>1.8</td>\n",
       "      <td>3.0</td>\n",
       "      <td>8.1</td>\n",
       "      <td>65.8</td>\n",
       "    </tr>\n",
       "    <tr>\n",
       "      <th>chlorides</th>\n",
       "      <td>6497.0</td>\n",
       "      <td>0.044374</td>\n",
       "      <td>0.057365</td>\n",
       "      <td>0.0</td>\n",
       "      <td>0.0</td>\n",
       "      <td>0.0</td>\n",
       "      <td>0.1</td>\n",
       "      <td>0.6</td>\n",
       "    </tr>\n",
       "    <tr>\n",
       "      <th>free sulfur dioxide</th>\n",
       "      <td>6497.0</td>\n",
       "      <td>30.525319</td>\n",
       "      <td>17.749400</td>\n",
       "      <td>1.0</td>\n",
       "      <td>17.0</td>\n",
       "      <td>29.0</td>\n",
       "      <td>41.0</td>\n",
       "      <td>289.0</td>\n",
       "    </tr>\n",
       "    <tr>\n",
       "      <th>total sulfur dioxide</th>\n",
       "      <td>6497.0</td>\n",
       "      <td>115.744574</td>\n",
       "      <td>56.521855</td>\n",
       "      <td>6.0</td>\n",
       "      <td>77.0</td>\n",
       "      <td>118.0</td>\n",
       "      <td>156.0</td>\n",
       "      <td>440.0</td>\n",
       "    </tr>\n",
       "    <tr>\n",
       "      <th>density</th>\n",
       "      <td>6497.0</td>\n",
       "      <td>1.000000</td>\n",
       "      <td>0.000000</td>\n",
       "      <td>1.0</td>\n",
       "      <td>1.0</td>\n",
       "      <td>1.0</td>\n",
       "      <td>1.0</td>\n",
       "      <td>1.0</td>\n",
       "    </tr>\n",
       "    <tr>\n",
       "      <th>pH</th>\n",
       "      <td>6497.0</td>\n",
       "      <td>3.218747</td>\n",
       "      <td>0.163690</td>\n",
       "      <td>2.7</td>\n",
       "      <td>3.1</td>\n",
       "      <td>3.2</td>\n",
       "      <td>3.3</td>\n",
       "      <td>4.0</td>\n",
       "    </tr>\n",
       "    <tr>\n",
       "      <th>sulphates</th>\n",
       "      <td>6497.0</td>\n",
       "      <td>0.531491</td>\n",
       "      <td>0.151885</td>\n",
       "      <td>0.2</td>\n",
       "      <td>0.4</td>\n",
       "      <td>0.5</td>\n",
       "      <td>0.6</td>\n",
       "      <td>2.0</td>\n",
       "    </tr>\n",
       "    <tr>\n",
       "      <th>alcohol</th>\n",
       "      <td>6497.0</td>\n",
       "      <td>10.491827</td>\n",
       "      <td>1.192737</td>\n",
       "      <td>8.0</td>\n",
       "      <td>9.5</td>\n",
       "      <td>10.3</td>\n",
       "      <td>11.3</td>\n",
       "      <td>14.9</td>\n",
       "    </tr>\n",
       "    <tr>\n",
       "      <th>quality</th>\n",
       "      <td>6497.0</td>\n",
       "      <td>5.818378</td>\n",
       "      <td>0.873255</td>\n",
       "      <td>3.0</td>\n",
       "      <td>5.0</td>\n",
       "      <td>6.0</td>\n",
       "      <td>6.0</td>\n",
       "      <td>9.0</td>\n",
       "    </tr>\n",
       "  </tbody>\n",
       "</table>\n",
       "</div>"
      ],
      "text/plain": [
       "                       count        mean        std  min   25%    50%    75%  \\\n",
       "fixed acidity         6497.0    7.216577   1.295743  3.8   6.4    7.0    7.7   \n",
       "volatile acidity      6497.0    0.339341   0.166639  0.1   0.2    0.3    0.4   \n",
       "citric acid           6497.0    0.318224   0.148982  0.0   0.2    0.3    0.4   \n",
       "residual sugar        6497.0    5.444390   4.757759  0.6   1.8    3.0    8.1   \n",
       "chlorides             6497.0    0.044374   0.057365  0.0   0.0    0.0    0.1   \n",
       "free sulfur dioxide   6497.0   30.525319  17.749400  1.0  17.0   29.0   41.0   \n",
       "total sulfur dioxide  6497.0  115.744574  56.521855  6.0  77.0  118.0  156.0   \n",
       "density               6497.0    1.000000   0.000000  1.0   1.0    1.0    1.0   \n",
       "pH                    6497.0    3.218747   0.163690  2.7   3.1    3.2    3.3   \n",
       "sulphates             6497.0    0.531491   0.151885  0.2   0.4    0.5    0.6   \n",
       "alcohol               6497.0   10.491827   1.192737  8.0   9.5   10.3   11.3   \n",
       "quality               6497.0    5.818378   0.873255  3.0   5.0    6.0    6.0   \n",
       "\n",
       "                        max  \n",
       "fixed acidity          15.9  \n",
       "volatile acidity        1.6  \n",
       "citric acid             1.7  \n",
       "residual sugar         65.8  \n",
       "chlorides               0.6  \n",
       "free sulfur dioxide   289.0  \n",
       "total sulfur dioxide  440.0  \n",
       "density                 1.0  \n",
       "pH                      4.0  \n",
       "sulphates               2.0  \n",
       "alcohol                14.9  \n",
       "quality                 9.0  "
      ]
     },
     "execution_count": 11,
     "metadata": {},
     "output_type": "execute_result"
    }
   ],
   "source": [
    "data.describe().T"
   ]
  },
  {
   "cell_type": "code",
   "execution_count": 12,
   "id": "71836c75",
   "metadata": {
    "execution": {
     "iopub.execute_input": "2024-04-06T12:11:17.782325Z",
     "iopub.status.busy": "2024-04-06T12:11:17.781553Z",
     "iopub.status.idle": "2024-04-06T12:11:28.698042Z",
     "shell.execute_reply": "2024-04-06T12:11:28.696820Z"
    },
    "papermill": {
     "duration": 10.932623,
     "end_time": "2024-04-06T12:11:28.701016",
     "exception": false,
     "start_time": "2024-04-06T12:11:17.768393",
     "status": "completed"
    },
    "tags": []
   },
   "outputs": [
    {
     "data": {
      "image/png": "[encoded data removed]",
      "text/plain": [
       "<Figure size 640x480 with 1 Axes>"
      ]
     },
     "metadata": {},
     "output_type": "display_data"
    }
   ],
   "source": [
    "plt.bar(data[\"quality\"],data[\"alcohol\"])\n",
    "plt.xlabel(\"quality\")\n",
    "plt.ylabel(\"alcohol\")\n",
    "plt.show()"
   ]
  },
  {
   "cell_type": "markdown",
   "id": "291c9571",
   "metadata": {
    "papermill": {
     "duration": 0.011263,
     "end_time": "2024-04-06T12:11:28.724378",
     "exception": false,
     "start_time": "2024-04-06T12:11:28.713115",
     "status": "completed"
    },
    "tags": []
   },
   "source": [
    "# There are times the data provided to us contains redundant features they do not help with increasing the model’s performance that is why we remove them before using them to train our model."
   ]
  },
  {
   "cell_type": "code",
   "execution_count": 13,
   "id": "6f381f5e",
   "metadata": {
    "execution": {
     "iopub.execute_input": "2024-04-06T12:11:28.749144Z",
     "iopub.status.busy": "2024-04-06T12:11:28.748720Z",
     "iopub.status.idle": "2024-04-06T12:11:28.777615Z",
     "shell.execute_reply": "2024-04-06T12:11:28.776414Z"
    },
    "papermill": {
     "duration": 0.044626,
     "end_time": "2024-04-06T12:11:28.780518",
     "exception": false,
     "start_time": "2024-04-06T12:11:28.735892",
     "status": "completed"
    },
    "tags": []
   },
   "outputs": [
    {
     "data": {
      "text/html": [
       "<div>\n",
       "<style scoped>\n",
       "    .dataframe tbody tr th:only-of-type {\n",
       "        vertical-align: middle;\n",
       "    }\n",
       "\n",
       "    .dataframe tbody tr th {\n",
       "        vertical-align: top;\n",
       "    }\n",
       "\n",
       "    .dataframe thead th {\n",
       "        text-align: right;\n",
       "    }\n",
       "</style>\n",
       "<table border=\"1\" class=\"dataframe\">\n",
       "  <thead>\n",
       "    <tr style=\"text-align: right;\">\n",
       "      <th></th>\n",
       "      <th>fixed acidity</th>\n",
       "      <th>volatile acidity</th>\n",
       "      <th>citric acid</th>\n",
       "      <th>residual sugar</th>\n",
       "      <th>chlorides</th>\n",
       "      <th>free sulfur dioxide</th>\n",
       "      <th>total sulfur dioxide</th>\n",
       "      <th>density</th>\n",
       "      <th>pH</th>\n",
       "      <th>sulphates</th>\n",
       "      <th>alcohol</th>\n",
       "      <th>quality</th>\n",
       "    </tr>\n",
       "  </thead>\n",
       "  <tbody>\n",
       "    <tr>\n",
       "      <th>fixed acidity</th>\n",
       "      <td>1.000000</td>\n",
       "      <td>0.217623</td>\n",
       "      <td>0.315564</td>\n",
       "      <td>-0.112220</td>\n",
       "      <td>0.324055</td>\n",
       "      <td>-0.283231</td>\n",
       "      <td>-0.329408</td>\n",
       "      <td>NaN</td>\n",
       "      <td>-0.245013</td>\n",
       "      <td>0.296016</td>\n",
       "      <td>-0.095615</td>\n",
       "      <td>-0.076982</td>\n",
       "    </tr>\n",
       "    <tr>\n",
       "      <th>volatile acidity</th>\n",
       "      <td>0.217623</td>\n",
       "      <td>1.000000</td>\n",
       "      <td>-0.372529</td>\n",
       "      <td>-0.200197</td>\n",
       "      <td>0.408359</td>\n",
       "      <td>-0.351541</td>\n",
       "      <td>-0.413576</td>\n",
       "      <td>NaN</td>\n",
       "      <td>0.258636</td>\n",
       "      <td>0.218539</td>\n",
       "      <td>-0.035334</td>\n",
       "      <td>-0.259897</td>\n",
       "    </tr>\n",
       "    <tr>\n",
       "      <th>citric acid</th>\n",
       "      <td>0.315564</td>\n",
       "      <td>-0.372529</td>\n",
       "      <td>1.000000</td>\n",
       "      <td>0.142379</td>\n",
       "      <td>-0.034474</td>\n",
       "      <td>0.135639</td>\n",
       "      <td>0.196738</td>\n",
       "      <td>NaN</td>\n",
       "      <td>-0.326226</td>\n",
       "      <td>0.049400</td>\n",
       "      <td>-0.009012</td>\n",
       "      <td>0.089223</td>\n",
       "    </tr>\n",
       "    <tr>\n",
       "      <th>residual sugar</th>\n",
       "      <td>-0.112220</td>\n",
       "      <td>-0.200197</td>\n",
       "      <td>0.142379</td>\n",
       "      <td>1.000000</td>\n",
       "      <td>-0.109680</td>\n",
       "      <td>0.403242</td>\n",
       "      <td>0.495712</td>\n",
       "      <td>NaN</td>\n",
       "      <td>-0.262603</td>\n",
       "      <td>-0.178398</td>\n",
       "      <td>-0.359638</td>\n",
       "      <td>-0.036878</td>\n",
       "    </tr>\n",
       "    <tr>\n",
       "      <th>chlorides</th>\n",
       "      <td>0.324055</td>\n",
       "      <td>0.408359</td>\n",
       "      <td>-0.034474</td>\n",
       "      <td>-0.109680</td>\n",
       "      <td>1.000000</td>\n",
       "      <td>-0.243165</td>\n",
       "      <td>-0.317514</td>\n",
       "      <td>NaN</td>\n",
       "      <td>0.112548</td>\n",
       "      <td>0.368221</td>\n",
       "      <td>-0.281896</td>\n",
       "      <td>-0.210619</td>\n",
       "    </tr>\n",
       "    <tr>\n",
       "      <th>free sulfur dioxide</th>\n",
       "      <td>-0.283231</td>\n",
       "      <td>-0.351541</td>\n",
       "      <td>0.135639</td>\n",
       "      <td>0.403242</td>\n",
       "      <td>-0.243165</td>\n",
       "      <td>1.000000</td>\n",
       "      <td>0.720934</td>\n",
       "      <td>NaN</td>\n",
       "      <td>-0.149762</td>\n",
       "      <td>-0.183669</td>\n",
       "      <td>-0.179789</td>\n",
       "      <td>0.055463</td>\n",
       "    </tr>\n",
       "    <tr>\n",
       "      <th>total sulfur dioxide</th>\n",
       "      <td>-0.329408</td>\n",
       "      <td>-0.413576</td>\n",
       "      <td>0.196738</td>\n",
       "      <td>0.495712</td>\n",
       "      <td>-0.317514</td>\n",
       "      <td>0.720934</td>\n",
       "      <td>1.000000</td>\n",
       "      <td>NaN</td>\n",
       "      <td>-0.241082</td>\n",
       "      <td>-0.270446</td>\n",
       "      <td>-0.265739</td>\n",
       "      <td>-0.041385</td>\n",
       "    </tr>\n",
       "    <tr>\n",
       "      <th>density</th>\n",
       "      <td>NaN</td>\n",
       "      <td>NaN</td>\n",
       "      <td>NaN</td>\n",
       "      <td>NaN</td>\n",
       "      <td>NaN</td>\n",
       "      <td>NaN</td>\n",
       "      <td>NaN</td>\n",
       "      <td>NaN</td>\n",
       "      <td>NaN</td>\n",
       "      <td>NaN</td>\n",
       "      <td>NaN</td>\n",
       "      <td>NaN</td>\n",
       "    </tr>\n",
       "    <tr>\n",
       "      <th>pH</th>\n",
       "      <td>-0.245013</td>\n",
       "      <td>0.258636</td>\n",
       "      <td>-0.326226</td>\n",
       "      <td>-0.262603</td>\n",
       "      <td>0.112548</td>\n",
       "      <td>-0.149762</td>\n",
       "      <td>-0.241082</td>\n",
       "      <td>NaN</td>\n",
       "      <td>1.000000</td>\n",
       "      <td>0.181694</td>\n",
       "      <td>0.119821</td>\n",
       "      <td>0.018116</td>\n",
       "    </tr>\n",
       "    <tr>\n",
       "      <th>sulphates</th>\n",
       "      <td>0.296016</td>\n",
       "      <td>0.218539</td>\n",
       "      <td>0.049400</td>\n",
       "      <td>-0.178398</td>\n",
       "      <td>0.368221</td>\n",
       "      <td>-0.183669</td>\n",
       "      <td>-0.270446</td>\n",
       "      <td>NaN</td>\n",
       "      <td>0.181694</td>\n",
       "      <td>1.000000</td>\n",
       "      <td>-0.003474</td>\n",
       "      <td>0.036630</td>\n",
       "    </tr>\n",
       "    <tr>\n",
       "      <th>alcohol</th>\n",
       "      <td>-0.095615</td>\n",
       "      <td>-0.035334</td>\n",
       "      <td>-0.009012</td>\n",
       "      <td>-0.359638</td>\n",
       "      <td>-0.281896</td>\n",
       "      <td>-0.179789</td>\n",
       "      <td>-0.265739</td>\n",
       "      <td>NaN</td>\n",
       "      <td>0.119821</td>\n",
       "      <td>-0.003474</td>\n",
       "      <td>1.000000</td>\n",
       "      <td>0.444318</td>\n",
       "    </tr>\n",
       "    <tr>\n",
       "      <th>quality</th>\n",
       "      <td>-0.076982</td>\n",
       "      <td>-0.259897</td>\n",
       "      <td>0.089223</td>\n",
       "      <td>-0.036878</td>\n",
       "      <td>-0.210619</td>\n",
       "      <td>0.055463</td>\n",
       "      <td>-0.041385</td>\n",
       "      <td>NaN</td>\n",
       "      <td>0.018116</td>\n",
       "      <td>0.036630</td>\n",
       "      <td>0.444318</td>\n",
       "      <td>1.000000</td>\n",
       "    </tr>\n",
       "  </tbody>\n",
       "</table>\n",
       "</div>"
      ],
      "text/plain": [
       "                      fixed acidity  volatile acidity  citric acid  \\\n",
       "fixed acidity              1.000000          0.217623     0.315564   \n",
       "volatile acidity           0.217623          1.000000    -0.372529   \n",
       "citric acid                0.315564         -0.372529     1.000000   \n",
       "residual sugar            -0.112220         -0.200197     0.142379   \n",
       "chlorides                  0.324055          0.408359    -0.034474   \n",
       "free sulfur dioxide       -0.283231         -0.351541     0.135639   \n",
       "total sulfur dioxide      -0.329408         -0.413576     0.196738   \n",
       "density                         NaN               NaN          NaN   \n",
       "pH                        -0.245013          0.258636    -0.326226   \n",
       "sulphates                  0.296016          0.218539     0.049400   \n",
       "alcohol                   -0.095615         -0.035334    -0.009012   \n",
       "quality                   -0.076982         -0.259897     0.089223   \n",
       "\n",
       "                      residual sugar  chlorides  free sulfur dioxide  \\\n",
       "fixed acidity              -0.112220   0.324055            -0.283231   \n",
       "volatile acidity           -0.200197   0.408359            -0.351541   \n",
       "citric acid                 0.142379  -0.034474             0.135639   \n",
       "residual sugar              1.000000  -0.109680             0.403242   \n",
       "chlorides                  -0.109680   1.000000            -0.243165   \n",
       "free sulfur dioxide         0.403242  -0.243165             1.000000   \n",
       "total sulfur dioxide        0.495712  -0.317514             0.720934   \n",
       "density                          NaN        NaN                  NaN   \n",
       "pH                         -0.262603   0.112548            -0.149762   \n",
       "sulphates                  -0.178398   0.368221            -0.183669   \n",
       "alcohol                    -0.359638  -0.281896            -0.179789   \n",
       "quality                    -0.036878  -0.210619             0.055463   \n",
       "\n",
       "                      total sulfur dioxide  density        pH  sulphates  \\\n",
       "fixed acidity                    -0.329408      NaN -0.245013   0.296016   \n",
       "volatile acidity                 -0.413576      NaN  0.258636   0.218539   \n",
       "citric acid                       0.196738      NaN -0.326226   0.049400   \n",
       "residual sugar                    0.495712      NaN -0.262603  -0.178398   \n",
       "chlorides                        -0.317514      NaN  0.112548   0.368221   \n",
       "free sulfur dioxide               0.720934      NaN -0.149762  -0.183669   \n",
       "total sulfur dioxide              1.000000      NaN -0.241082  -0.270446   \n",
       "density                                NaN      NaN       NaN        NaN   \n",
       "pH                               -0.241082      NaN  1.000000   0.181694   \n",
       "sulphates                        -0.270446      NaN  0.181694   1.000000   \n",
       "alcohol                          -0.265739      NaN  0.119821  -0.003474   \n",
       "quality                          -0.041385      NaN  0.018116   0.036630   \n",
       "\n",
       "                       alcohol   quality  \n",
       "fixed acidity        -0.095615 -0.076982  \n",
       "volatile acidity     -0.035334 -0.259897  \n",
       "citric acid          -0.009012  0.089223  \n",
       "residual sugar       -0.359638 -0.036878  \n",
       "chlorides            -0.281896 -0.210619  \n",
       "free sulfur dioxide  -0.179789  0.055463  \n",
       "total sulfur dioxide -0.265739 -0.041385  \n",
       "density                    NaN       NaN  \n",
       "pH                    0.119821  0.018116  \n",
       "sulphates            -0.003474  0.036630  \n",
       "alcohol               1.000000  0.444318  \n",
       "quality               0.444318  1.000000  "
      ]
     },
     "execution_count": 13,
     "metadata": {},
     "output_type": "execute_result"
    }
   ],
   "source": [
    "data.corr(numeric_only=True)"
   ]
  },
  {
   "cell_type": "code",
   "execution_count": 14,
   "id": "e90c87e7",
   "metadata": {
    "execution": {
     "iopub.execute_input": "2024-04-06T12:11:28.806764Z",
     "iopub.status.busy": "2024-04-06T12:11:28.806353Z",
     "iopub.status.idle": "2024-04-06T12:11:29.484771Z",
     "shell.execute_reply": "2024-04-06T12:11:29.483623Z"
    },
    "papermill": {
     "duration": 0.695547,
     "end_time": "2024-04-06T12:11:29.488351",
     "exception": false,
     "start_time": "2024-04-06T12:11:28.792804",
     "status": "completed"
    },
    "tags": []
   },
   "outputs": [
    {
     "data": {
      "image/png": "[encoded data removed]",
      "text/plain": [
       "<Figure size 1200x1200 with 1 Axes>"
      ]
     },
     "metadata": {},
     "output_type": "display_data"
    }
   ],
   "source": [
    "plt.figure(figsize=(12, 12))\n",
    "sns.heatmap(data.corr(numeric_only=True) > 0.7, annot=True, cbar=False)\n",
    "plt.show()\n"
   ]
  },
  {
   "cell_type": "code",
   "execution_count": 15,
   "id": "3553b34e",
   "metadata": {
    "execution": {
     "iopub.execute_input": "2024-04-06T12:11:29.516941Z",
     "iopub.status.busy": "2024-04-06T12:11:29.515848Z",
     "iopub.status.idle": "2024-04-06T12:11:29.522683Z",
     "shell.execute_reply": "2024-04-06T12:11:29.521589Z"
    },
    "papermill": {
     "duration": 0.023937,
     "end_time": "2024-04-06T12:11:29.525403",
     "exception": false,
     "start_time": "2024-04-06T12:11:29.501466",
     "status": "completed"
    },
    "tags": []
   },
   "outputs": [],
   "source": [
    "data= data.drop('total sulfur dioxide', axis=1)\n"
   ]
  },
  {
   "cell_type": "code",
   "execution_count": 16,
   "id": "221ed55a",
   "metadata": {
    "execution": {
     "iopub.execute_input": "2024-04-06T12:11:29.554261Z",
     "iopub.status.busy": "2024-04-06T12:11:29.553855Z",
     "iopub.status.idle": "2024-04-06T12:11:29.565903Z",
     "shell.execute_reply": "2024-04-06T12:11:29.564623Z"
    },
    "papermill": {
     "duration": 0.028984,
     "end_time": "2024-04-06T12:11:29.568447",
     "exception": false,
     "start_time": "2024-04-06T12:11:29.539463",
     "status": "completed"
    },
    "tags": []
   },
   "outputs": [],
   "source": [
    "data['best quality'] = [1 if x > 5 else 0 for x in data.quality]\n"
   ]
  },
  {
   "cell_type": "code",
   "execution_count": 17,
   "id": "6128cd1c",
   "metadata": {
    "execution": {
     "iopub.execute_input": "2024-04-06T12:11:29.597470Z",
     "iopub.status.busy": "2024-04-06T12:11:29.597037Z",
     "iopub.status.idle": "2024-04-06T12:11:29.613572Z",
     "shell.execute_reply": "2024-04-06T12:11:29.612453Z"
    },
    "papermill": {
     "duration": 0.034459,
     "end_time": "2024-04-06T12:11:29.616166",
     "exception": false,
     "start_time": "2024-04-06T12:11:29.581707",
     "status": "completed"
    },
    "tags": []
   },
   "outputs": [
    {
     "name": "stderr",
     "output_type": "stream",
     "text": [
      "/tmp/ipykernel_18/551085683.py:1: FutureWarning: Downcasting behavior in `replace` is deprecated and will be removed in a future version. To retain the old behavior, explicitly call `result.infer_objects(copy=False)`. To opt-in to the future behavior, set `pd.set_option('future.no_silent_downcasting', True)`\n",
      "  data.replace({'white': 1, 'red': 0}, inplace=True)\n"
     ]
    }
   ],
   "source": [
    "data.replace({'white': 1, 'red': 0}, inplace=True)\n"
   ]
  },
  {
   "cell_type": "code",
   "execution_count": 18,
   "id": "460a27b0",
   "metadata": {
    "execution": {
     "iopub.execute_input": "2024-04-06T12:11:29.645365Z",
     "iopub.status.busy": "2024-04-06T12:11:29.644716Z",
     "iopub.status.idle": "2024-04-06T12:11:29.957589Z",
     "shell.execute_reply": "2024-04-06T12:11:29.956349Z"
    },
    "papermill": {
     "duration": 0.330327,
     "end_time": "2024-04-06T12:11:29.960388",
     "exception": false,
     "start_time": "2024-04-06T12:11:29.630061",
     "status": "completed"
    },
    "tags": []
   },
   "outputs": [],
   "source": [
    "from sklearn.model_selection import train_test_split"
   ]
  },
  {
   "cell_type": "code",
   "execution_count": 19,
   "id": "6adb66cd",
   "metadata": {
    "execution": {
     "iopub.execute_input": "2024-04-06T12:11:29.989087Z",
     "iopub.status.busy": "2024-04-06T12:11:29.988678Z",
     "iopub.status.idle": "2024-04-06T12:11:30.004958Z",
     "shell.execute_reply": "2024-04-06T12:11:30.003761Z"
    },
    "papermill": {
     "duration": 0.033554,
     "end_time": "2024-04-06T12:11:30.007425",
     "exception": false,
     "start_time": "2024-04-06T12:11:29.973871",
     "status": "completed"
    },
    "tags": []
   },
   "outputs": [
    {
     "data": {
      "text/plain": [
       "((5197, 11), (1300, 11))"
      ]
     },
     "execution_count": 19,
     "metadata": {},
     "output_type": "execute_result"
    }
   ],
   "source": [
    "features = data.drop(['quality', 'best quality'], axis=1)\n",
    "target = data['best quality']\n",
    "\n",
    "xtrain, xtest, ytrain, ytest = train_test_split(\n",
    "\tfeatures, target, test_size=0.2, random_state=40)\n",
    "\n",
    "xtrain.shape, xtest.shape\n"
   ]
  },
  {
   "cell_type": "code",
   "execution_count": 20,
   "id": "19954dfa",
   "metadata": {
    "execution": {
     "iopub.execute_input": "2024-04-06T12:11:30.036520Z",
     "iopub.status.busy": "2024-04-06T12:11:30.035866Z",
     "iopub.status.idle": "2024-04-06T12:11:30.040781Z",
     "shell.execute_reply": "2024-04-06T12:11:30.039842Z"
    },
    "papermill": {
     "duration": 0.022121,
     "end_time": "2024-04-06T12:11:30.043204",
     "exception": false,
     "start_time": "2024-04-06T12:11:30.021083",
     "status": "completed"
    },
    "tags": []
   },
   "outputs": [],
   "source": [
    "from sklearn.preprocessing import MinMaxScaler"
   ]
  },
  {
   "cell_type": "code",
   "execution_count": 21,
   "id": "e19b4189",
   "metadata": {
    "execution": {
     "iopub.execute_input": "2024-04-06T12:11:30.072471Z",
     "iopub.status.busy": "2024-04-06T12:11:30.071782Z",
     "iopub.status.idle": "2024-04-06T12:11:30.084344Z",
     "shell.execute_reply": "2024-04-06T12:11:30.083391Z"
    },
    "papermill": {
     "duration": 0.030257,
     "end_time": "2024-04-06T12:11:30.086926",
     "exception": false,
     "start_time": "2024-04-06T12:11:30.056669",
     "status": "completed"
    },
    "tags": []
   },
   "outputs": [],
   "source": [
    "norm = MinMaxScaler()\n",
    "xtrain = norm.fit_transform(xtrain)\n",
    "xtest = norm.transform(xtest)\n"
   ]
  },
  {
   "cell_type": "code",
   "execution_count": 22,
   "id": "dcec1cf4",
   "metadata": {
    "execution": {
     "iopub.execute_input": "2024-04-06T12:11:30.115575Z",
     "iopub.status.busy": "2024-04-06T12:11:30.114908Z",
     "iopub.status.idle": "2024-04-06T12:11:30.854625Z",
     "shell.execute_reply": "2024-04-06T12:11:30.853417Z"
    },
    "papermill": {
     "duration": 0.757244,
     "end_time": "2024-04-06T12:11:30.857396",
     "exception": false,
     "start_time": "2024-04-06T12:11:30.100152",
     "status": "completed"
    },
    "tags": []
   },
   "outputs": [],
   "source": [
    "from sklearn.preprocessing import MinMaxScaler\n",
    "from sklearn import metrics\n",
    "from sklearn.svm import SVC\n",
    "from xgboost import XGBClassifier\n",
    "from sklearn.linear_model import LogisticRegression"
   ]
  },
  {
   "cell_type": "code",
   "execution_count": 23,
   "id": "1ee69134",
   "metadata": {
    "execution": {
     "iopub.execute_input": "2024-04-06T12:11:30.886490Z",
     "iopub.status.busy": "2024-04-06T12:11:30.885775Z",
     "iopub.status.idle": "2024-04-06T12:11:33.344542Z",
     "shell.execute_reply": "2024-04-06T12:11:33.343240Z"
    },
    "papermill": {
     "duration": 2.476468,
     "end_time": "2024-04-06T12:11:33.347146",
     "exception": false,
     "start_time": "2024-04-06T12:11:30.870678",
     "status": "completed"
    },
    "tags": []
   },
   "outputs": [
    {
     "name": "stdout",
     "output_type": "stream",
     "text": [
      "LogisticRegression() : \n",
      "Training Accuracy :  0.693685978557446\n",
      "Validation Accuracy :  0.6845889396307762\n",
      "\n",
      "XGBClassifier(base_score=None, booster=None, callbacks=None,\n",
      "              colsample_bylevel=None, colsample_bynode=None,\n",
      "              colsample_bytree=None, device=None, early_stopping_rounds=None,\n",
      "              enable_categorical=False, eval_metric=None, feature_types=None,\n",
      "              gamma=None, grow_policy=None, importance_type=None,\n",
      "              interaction_constraints=None, learning_rate=None, max_bin=None,\n",
      "              max_cat_threshold=None, max_cat_to_onehot=None,\n",
      "              max_delta_step=None, max_depth=None, max_leaves=None,\n",
      "              min_child_weight=None, missing=nan, monotone_constraints=None,\n",
      "              multi_strategy=None, n_estimators=None, n_jobs=None,\n",
      "              num_parallel_tree=None, random_state=None, ...) : \n",
      "Training Accuracy :  0.9432008849712575\n",
      "Validation Accuracy :  0.7768642535323506\n",
      "\n",
      "SVC() : \n",
      "Training Accuracy :  0.7010086537956125\n",
      "Validation Accuracy :  0.6826886729804558\n",
      "\n"
     ]
    }
   ],
   "source": [
    "models = [LogisticRegression(), XGBClassifier(), SVC(kernel='rbf')]\n",
    "\n",
    "for i in range(3):\n",
    "    models[i].fit(xtrain, ytrain)\n",
    "\n",
    "    print(f'{models[i]} : ')\n",
    "    print('Training Accuracy : ', metrics.roc_auc_score(ytrain, models[i].predict(xtrain)))\n",
    "    print('Validation Accuracy : ', metrics.roc_auc_score(ytest, models[i].predict(xtest)))\n",
    "    print()\n"
   ]
  },
  {
   "cell_type": "code",
   "execution_count": null,
   "id": "08ffd4f4",
   "metadata": {
    "papermill": {
     "duration": 0.013902,
     "end_time": "2024-04-06T12:11:33.374877",
     "exception": false,
     "start_time": "2024-04-06T12:11:33.360975",
     "status": "completed"
    },
    "tags": []
   },
   "outputs": [],
   "source": []
  }
 ],
 "metadata": {
  "kaggle": {
   "accelerator": "none",
   "dataSources": [
    {
     "datasetId": 35901,
     "sourceId": 52633,
     "sourceType": "datasetVersion"
    }
   ],
   "dockerImageVersionId": 30673,
   "isGpuEnabled": false,
   "isInternetEnabled": true,
   "language": "python",
   "sourceType": "notebook"
  },
  "kernelspec": {
   "display_name": "Python 3",
   "language": "python",
   "name": "python3"
  },
  "language_info": {
   "codemirror_mode": {
    "name": "ipython",
    "version": 3
   },
   "file_extension": ".py",
   "mimetype": "text/x-python",
   "name": "python",
   "nbconvert_exporter": "python",
   "pygments_lexer": "ipython3",
   "version": "3.10.13"
  },
  "papermill": {
   "default_parameters": {},
   "duration": 25.699843,
   "end_time": "2024-04-06T12:11:34.110356",
   "environment_variables": {},
   "exception": null,
   "input_path": "__notebook__.ipynb",
   "output_path": "__notebook__.ipynb",
   "parameters": {},
   "start_time": "2024-04-06T12:11:08.410513",
   "version": "2.5.0"
  }
 },
 "nbformat": 4,
 "nbformat_minor": 5
}
